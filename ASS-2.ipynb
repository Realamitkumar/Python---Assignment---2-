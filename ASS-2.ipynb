{
 "cells": [
  {
   "cell_type": "markdown",
   "id": "1ec14811",
   "metadata": {},
   "source": [
    "# Q1:\n",
    "\n",
    "**Create the below pattern using nested for loop in Python**"
   ]
  },
  {
   "cell_type": "markdown",
   "id": "0b70f7d8",
   "metadata": {},
   "source": [
    "*\n",
    "* *\n",
    "* * *\n",
    "* * * *\n",
    "* * * * *\n",
    "* * * *\n",
    "* * *\n",
    "* *\n",
    "*"
   ]
  },
  {
   "cell_type": "code",
   "execution_count": 46,
   "id": "3a8428c8",
   "metadata": {},
   "outputs": [
    {
     "name": "stdout",
     "output_type": "stream",
     "text": [
      "Enter\n",
      "5\n",
      "\n",
      "* \n",
      "* * \n",
      "* * * \n",
      "* * * * \n",
      "* * * * * \n",
      "* * * * \n",
      "* * * \n",
      "* * \n",
      "* \n"
     ]
    }
   ],
   "source": [
    "rows = int(input(\"Enter\\n\"))\n",
    "for i in range(rows + 1):\n",
    "    for j in range(1 , i + 1):\n",
    "        print(\"*\", end = \" \" )\n",
    "    print()  \n",
    "    \n",
    "for i in range(rows ,1 ,- 1):\n",
    "    for j in range(1 , i ):\n",
    "        print(\"*\", end = \" \" )\n",
    "    print()      "
   ]
  },
  {
   "cell_type": "markdown",
   "id": "cf81339b",
   "metadata": {},
   "source": [
    "# Q2: \n",
    "**Write a Python program to reverse a word after accepting the input from the user.**"
   ]
  },
  {
   "cell_type": "code",
   "execution_count": 19,
   "id": "59ce9184",
   "metadata": {
    "scrolled": true
   },
   "outputs": [
    {
     "name": "stdout",
     "output_type": "stream",
     "text": [
      "Enter Here\n",
      "ineuron\n"
     ]
    },
    {
     "data": {
      "text/plain": [
       "'norueni'"
      ]
     },
     "execution_count": 19,
     "metadata": {},
     "output_type": "execute_result"
    }
   ],
   "source": [
    "user = input(\"Enter Here\\n\")\n",
    "user[::-1]"
   ]
  }
 ],
 "metadata": {
  "kernelspec": {
   "display_name": "Python 3",
   "language": "python",
   "name": "python3"
  },
  "language_info": {
   "codemirror_mode": {
    "name": "ipython",
    "version": 3
   },
   "file_extension": ".py",
   "mimetype": "text/x-python",
   "name": "python",
   "nbconvert_exporter": "python",
   "pygments_lexer": "ipython3",
   "version": "3.8.8"
  }
 },
 "nbformat": 4,
 "nbformat_minor": 5
}
